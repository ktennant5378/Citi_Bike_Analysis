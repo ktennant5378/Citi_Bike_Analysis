{
 "cells": [
  {
   "cell_type": "code",
   "execution_count": 2,
   "metadata": {},
   "outputs": [],
   "source": [
    "# import dependencies\n",
    "from pathlib import Path\n",
    "import pandas as pd\n",
    "import matplotlib.pyplot as plt"
   ]
  },
  {
   "cell_type": "markdown",
   "metadata": {},
   "source": [
    "# Create new CSVs seperating member data from casual "
   ]
  },
  {
   "cell_type": "code",
   "execution_count": null,
   "metadata": {},
   "outputs": [],
   "source": [
    "# read CSV for 2023\n",
    "file_path = Path(\"Resources/202201-citibike-tripdata_1.csv\")\n",
    "df = pd.read_csv(file_path)\n",
    "\n",
    "# extract only member data from the CSV\n",
    "member_df = df.loc[df['member_casual'] == 'member']\n",
    "\n",
    "# extract only casual data from the CSV\n",
    "casual_df = df.loc[df['member_casual'] == 'casual']\n",
    "casual_df"
   ]
  },
  {
   "cell_type": "code",
   "execution_count": null,
   "metadata": {},
   "outputs": [],
   "source": [
    "# read csv for Jan 2\n",
    "file_path = Path(\"Resources/202201-citibike-tripdata_2.csv\")\n",
    "df = pd.read_csv(file_path)\n",
    "\n",
    "# extract only member data from the CSV\n",
    "member_df2 = df.loc[df['member_casual'] == 'member']\n",
    "\n",
    "# extract only casual data from the CSV\n",
    "casual_df2 = df.loc[df['member_casual'] == 'casual']\n",
    "casual_df2"
   ]
  },
  {
   "cell_type": "code",
   "execution_count": null,
   "metadata": {},
   "outputs": [],
   "source": [
    "# combine the two dataframes\n",
    "jan2023_member_df = pd.concat([member_df, member_df2])\n",
    "jan2023_casual_df = pd.concat([casual_df, casual_df2])\n",
    "\n",
    "# write the data to a new CSV\n",
    "jan2023_member_df.to_csv('Resources/jan2023_member.csv')\n",
    "jan2023_casual_df.to_csv('Resources/jan2023_casual.csv')"
   ]
  },
  {
   "cell_type": "code",
   "execution_count": null,
   "metadata": {},
   "outputs": [],
   "source": [
    "# Pull feb 2023 data\n",
    "file_path = Path(\"Resources/202202-citibike-tripdata_1.csv\")\n",
    "df = pd.read_csv(file_path)\n",
    "\n",
    "# extract only member data from the CSV\n",
    "member_df3 = df.loc[df['member_casual'] == 'member']\n",
    "\n",
    "# extract only casual data from the CSV\n",
    "casual_df3 = df.loc[df['member_casual'] == 'casual']\n",
    "\n",
    "# Pull second feb 2023 data\n",
    "file_path = Path(\"Resources/202202-citibike-tripdata_2.csv\")\n",
    "df = pd.read_csv(file_path)\n",
    "\n",
    "# extract only member data from the CSV\n",
    "member_df4 = df.loc[df['member_casual'] == 'member']\n",
    "\n",
    "# extract only casual data from the CSV\n",
    "casual_df4 = df.loc[df['member_casual'] == 'casual']\n",
    "\n",
    "# combine the two dataframes\n",
    "feb2023_member_df = pd.concat([member_df3, member_df4])\n",
    "feb2023_casual_df = pd.concat([casual_df3, casual_df4])\n",
    "\n",
    "# write the data to a new CSV\n",
    "feb2023_member_df.to_csv('Resources/feb2023_member.csv')\n",
    "feb2023_casual_df.to_csv('Resources/feb2023_casual.csv')"
   ]
  },
  {
   "cell_type": "code",
   "execution_count": null,
   "metadata": {},
   "outputs": [],
   "source": [
    "# Pull march 2023 data\n",
    "file_path = Path(\"Resources/202203-citibike-tripdata_1.csv\")\n",
    "df = pd.read_csv(file_path)\n",
    "\n",
    "# extract only member data from the CSV\n",
    "member_df5 = df.loc[df['member_casual'] == 'member']\n",
    "\n",
    "# extract only casual data from the CSV\n",
    "casual_df5 = df.loc[df['member_casual'] == 'casual']\n",
    "\n",
    "# Pull second march 2023 data\n",
    "file_path = Path(\"Resources/202203-citibike-tripdata_2.csv\")\n",
    "df = pd.read_csv(file_path)\n",
    "\n",
    "# extract only member data from the CSV\n",
    "member_df6 = df.loc[df['member_casual'] == 'member']\n",
    "\n",
    "# extract only casual data from the CSV\n",
    "casual_df6 = df.loc[df['member_casual'] == 'casual']\n",
    "\n",
    "# combine the two dataframes\n",
    "march2023_member_df = pd.concat([member_df5, member_df6])\n",
    "march2023_casual_df = pd.concat([casual_df5, casual_df6])\n",
    "\n",
    "# write the data to a new CSV\n",
    "march2023_member_df.to_csv('Resources/march2023_member.csv')\n",
    "march2023_casual_df.to_csv('Resources/march2023_casual.csv')"
   ]
  },
  {
   "cell_type": "markdown",
   "metadata": {},
   "source": [
    "# Add a lat and lon change column "
   ]
  },
  {
   "cell_type": "code",
   "execution_count": 8,
   "metadata": {},
   "outputs": [],
   "source": [
    "# Define the Haversine Formula to calculate distance between two lat-lon points\n",
    "def haversine(lon1, lat1, lon2, lat2):\n",
    "    # Convert decimal degrees to radians\n",
    "    lon1, lat1, lon2, lat2 = map(np.radians, [lon1, lat1, lon2, lat2])\n",
    "\n",
    "    # Haversine formula\n",
    "    dlon = lon2 - lon1\n",
    "    dlat = lat2 - lat1\n",
    "    a = np.sin(dlat/2)**2 + np.cos(lat1) * np.cos(lat2) * np.sin(dlon/2)**2\n",
    "    c = 2 * np.arcsin(np.sqrt(a))\n",
    "    r = 6371  # Radius of Earth in kilometers. Use 3956 for miles\n",
    "    return c * r\n"
   ]
  },
  {
   "cell_type": "code",
   "execution_count": 9,
   "metadata": {},
   "outputs": [
    {
     "name": "stderr",
     "output_type": "stream",
     "text": [
      "C:\\Users\\kengt\\AppData\\Local\\Temp\\ipykernel_18200\\1793920069.py:3: DtypeWarning: Columns (6,8) have mixed types. Specify dtype option on import or set low_memory=False.\n",
      "  jan2023_member_df = pd.read_csv(file_path)\n"
     ]
    }
   ],
   "source": [
    "# pull jan member data\n",
    "file_path = Path(\"Resources/jan2023_member.csv\")\n",
    "jan2023_member_df = pd.read_csv(file_path)\n",
    "\n",
    "# add a lat change and lon change column\n",
    "jan2023_member_df['lat_change'] = (jan2023_member_df['end_lat'] - jan2023_member_df['start_lat']).abs()\n",
    "jan2023_member_df['lon_change'] = (jan2023_member_df['end_lng'] - jan2023_member_df['start_lng']).abs()\n",
    "\n",
    "# Apply the Haversine function to each row in the DataFrame\n",
    "jan2023_member_df['distance_km'] = jan2023_member_df.apply(\n",
    "    lambda row: haversine(row['start_lng'], row['start_lat'], row['end_lng'], row['end_lat']),\n",
    "    axis=1\n",
    ")\n",
    "\n",
    "# write back to CSV\n",
    "jan2023_member_df.to_csv('Resources/jan2023_member.csv')"
   ]
  },
  {
   "cell_type": "code",
   "execution_count": 10,
   "metadata": {},
   "outputs": [
    {
     "name": "stderr",
     "output_type": "stream",
     "text": [
      "C:\\Users\\kengt\\AppData\\Local\\Temp\\ipykernel_18200\\4092019443.py:3: DtypeWarning: Columns (8) have mixed types. Specify dtype option on import or set low_memory=False.\n",
      "  jan2023_casual_df = pd.read_csv(file_path)\n"
     ]
    }
   ],
   "source": [
    "# pull jan casual data\n",
    "file_path = Path(\"Resources/jan2023_casual.csv\")\n",
    "jan2023_casual_df = pd.read_csv(file_path)\n",
    "\n",
    "# add a lat change and lon change column\n",
    "jan2023_casual_df['lat_change'] = (jan2023_casual_df['end_lat'] - jan2023_casual_df['start_lat']).abs()\n",
    "jan2023_casual_df['lon_change'] = (jan2023_casual_df['end_lng'] - jan2023_casual_df['start_lng']).abs()\n",
    "\n",
    "# Apply the Haversine function to each row in the DataFrame\n",
    "jan2023_casual_df['distance_km'] = jan2023_casual_df.apply(\n",
    "    lambda row: haversine(row['start_lng'], row['start_lat'], row['end_lng'], row['end_lat']),\n",
    "    axis=1\n",
    ")\n",
    "\n",
    "# write back to CSV\n",
    "jan2023_casual_df.to_csv('Resources/jan2023_casual.csv')\n"
   ]
  },
  {
   "cell_type": "code",
   "execution_count": 11,
   "metadata": {},
   "outputs": [
    {
     "name": "stderr",
     "output_type": "stream",
     "text": [
      "C:\\Users\\kengt\\AppData\\Local\\Temp\\ipykernel_18200\\1549414899.py:3: DtypeWarning: Columns (6,8) have mixed types. Specify dtype option on import or set low_memory=False.\n",
      "  feb2023_member_df = pd.read_csv(file_path)\n",
      "C:\\Users\\kengt\\AppData\\Local\\Temp\\ipykernel_18200\\1549414899.py:20: DtypeWarning: Columns (8) have mixed types. Specify dtype option on import or set low_memory=False.\n",
      "  feb2023_casual_df = pd.read_csv(file_path)\n"
     ]
    }
   ],
   "source": [
    "# pull feb member data\n",
    "file_path = Path(\"Resources/feb2023_member.csv\")\n",
    "feb2023_member_df = pd.read_csv(file_path)\n",
    "\n",
    "# add a lat change and lon change column\n",
    "feb2023_member_df['lat_change'] = (feb2023_member_df['end_lat'] - feb2023_member_df['start_lat']).abs()\n",
    "feb2023_member_df['lon_change'] = (feb2023_member_df['end_lng'] - feb2023_member_df['start_lng']).abs()\n",
    "\n",
    "# Apply the Haversine function to each row in the DataFrame\n",
    "feb2023_member_df['distance_km'] = feb2023_member_df.apply(\n",
    "    lambda row: haversine(row['start_lng'], row['start_lat'], row['end_lng'], row['end_lat']),\n",
    "    axis=1\n",
    ")\n",
    "\n",
    "# write back to CSV\n",
    "feb2023_member_df.to_csv('Resources/feb2023_member.csv')\n",
    "\n",
    "# pull feb casual data\n",
    "file_path = Path(\"Resources/feb2023_casual.csv\")\n",
    "feb2023_casual_df = pd.read_csv(file_path)\n",
    "\n",
    "# add a lat change and lon change column\n",
    "feb2023_casual_df['lat_change'] = (feb2023_casual_df['end_lat'] - feb2023_casual_df['start_lat']).abs()\n",
    "feb2023_casual_df['lon_change'] = (feb2023_casual_df['end_lng'] - feb2023_casual_df['start_lng']).abs()\n",
    "\n",
    "# Apply the Haversine function to each row in the DataFrame\n",
    "feb2023_casual_df['distance_km'] = feb2023_casual_df.apply(\n",
    "    lambda row: haversine(row['start_lng'], row['start_lat'], row['end_lng'], row['end_lat']),\n",
    "    axis=1\n",
    ")\n",
    "\n",
    "# write back to CSV\n",
    "feb2023_casual_df.to_csv('Resources/feb2023_casual.csv')"
   ]
  },
  {
   "cell_type": "code",
   "execution_count": 12,
   "metadata": {},
   "outputs": [
    {
     "name": "stderr",
     "output_type": "stream",
     "text": [
      "C:\\Users\\kengt\\AppData\\Local\\Temp\\ipykernel_18200\\604511954.py:3: DtypeWarning: Columns (6,8) have mixed types. Specify dtype option on import or set low_memory=False.\n",
      "  march2023_member_df = pd.read_csv(file_path)\n"
     ]
    }
   ],
   "source": [
    "# pull march member data\n",
    "file_path = Path(\"Resources/march2023_member.csv\")\n",
    "march2023_member_df = pd.read_csv(file_path)\n",
    "\n",
    "# add a lat change and lon change column\n",
    "march2023_member_df['lat_change'] = (march2023_member_df['end_lat'] - march2023_member_df['start_lat']).abs()\n",
    "march2023_member_df['lon_change'] = (march2023_member_df['end_lng'] - march2023_member_df['start_lng']).abs()\n",
    "\n",
    "# Apply the Haversine function to each row in the DataFrame\n",
    "march2023_member_df['distance_km'] = march2023_member_df.apply(\n",
    "    lambda row: haversine(row['start_lng'], row['start_lat'], row['end_lng'], row['end_lat']),\n",
    "    axis=1\n",
    ")\n",
    "\n",
    "# write back to CSV\n",
    "march2023_member_df.to_csv('Resources/march2023_member.csv')\n",
    "\n",
    "# pull march casual data\n",
    "file_path = Path(\"Resources/march2023_casual.csv\")\n",
    "march2023_casual_df = pd.read_csv(file_path)\n",
    "\n",
    "# add a lat change and lon change column\n",
    "march2023_casual_df['lat_change'] = (march2023_casual_df['end_lat'] - march2023_casual_df['start_lat']).abs()\n",
    "march2023_casual_df['lon_change'] = (march2023_casual_df['end_lng'] - march2023_casual_df['start_lng']).abs()\n",
    "\n",
    "# Apply the Haversine function to each row in the DataFrame\n",
    "march2023_casual_df['distance_km'] = march2023_casual_df.apply(\n",
    "    lambda row: haversine(row['start_lng'], row['start_lat'], row['end_lng'], row['end_lat']),\n",
    "    axis=1\n",
    ")\n",
    "\n",
    "# write back to CSV\n",
    "march2023_casual_df.to_csv('Resources/march2023_casual.csv')\n"
   ]
  },
  {
   "cell_type": "markdown",
   "metadata": {},
   "source": [
    "# Combine Month Data into new CSV"
   ]
  },
  {
   "cell_type": "code",
   "execution_count": 3,
   "metadata": {},
   "outputs": [
    {
     "name": "stderr",
     "output_type": "stream",
     "text": [
      "C:\\Users\\kengt\\AppData\\Local\\Temp\\ipykernel_20784\\2711612768.py:3: DtypeWarning: Columns (7,9) have mixed types. Specify dtype option on import or set low_memory=False.\n",
      "  jan2023_member_df = pd.read_csv(file_path)\n",
      "C:\\Users\\kengt\\AppData\\Local\\Temp\\ipykernel_20784\\2711612768.py:7: DtypeWarning: Columns (9) have mixed types. Specify dtype option on import or set low_memory=False.\n",
      "  jan2023_casual_df = pd.read_csv(file_path)\n"
     ]
    }
   ],
   "source": [
    "# pull jan member data\n",
    "file_path = Path(\"Resources/jan2023_member.csv\")\n",
    "jan2023_member_df = pd.read_csv(file_path)\n",
    "\n",
    "# pull jan casual data\n",
    "file_path = Path(\"Resources/jan2023_casual.csv\")\n",
    "jan2023_casual_df = pd.read_csv(file_path)\n",
    "\n",
    "# combine the two dataframes\n",
    "jan2023_df = pd.concat([jan2023_member_df, jan2023_casual_df])\n",
    "\n",
    "# write the data to a new CSV\n",
    "jan2023_df.to_csv('Resources/jan2023.csv')"
   ]
  },
  {
   "cell_type": "code",
   "execution_count": 4,
   "metadata": {},
   "outputs": [
    {
     "name": "stderr",
     "output_type": "stream",
     "text": [
      "C:\\Users\\kengt\\AppData\\Local\\Temp\\ipykernel_20784\\3892034837.py:3: DtypeWarning: Columns (7,9) have mixed types. Specify dtype option on import or set low_memory=False.\n",
      "  feb2023_member_df = pd.read_csv(file_path)\n",
      "C:\\Users\\kengt\\AppData\\Local\\Temp\\ipykernel_20784\\3892034837.py:7: DtypeWarning: Columns (9) have mixed types. Specify dtype option on import or set low_memory=False.\n",
      "  feb2023_casual_df = pd.read_csv(file_path)\n"
     ]
    }
   ],
   "source": [
    "# pull feb member data\n",
    "file_path = Path(\"Resources/feb2023_member.csv\")\n",
    "feb2023_member_df = pd.read_csv(file_path)\n",
    "\n",
    "# pull feb casual data\n",
    "file_path = Path(\"Resources/feb2023_casual.csv\")\n",
    "feb2023_casual_df = pd.read_csv(file_path)\n",
    "\n",
    "# combine the two dataframes\n",
    "feb2023_df = pd.concat([feb2023_member_df, feb2023_casual_df])\n",
    "\n",
    "# write the data to a new CSV\n",
    "feb2023_df.to_csv('Resources/feb2023.csv')"
   ]
  },
  {
   "cell_type": "code",
   "execution_count": 5,
   "metadata": {},
   "outputs": [
    {
     "name": "stderr",
     "output_type": "stream",
     "text": [
      "C:\\Users\\kengt\\AppData\\Local\\Temp\\ipykernel_20784\\532503548.py:3: DtypeWarning: Columns (7,9) have mixed types. Specify dtype option on import or set low_memory=False.\n",
      "  march2023_member_df = pd.read_csv(file_path)\n",
      "C:\\Users\\kengt\\AppData\\Local\\Temp\\ipykernel_20784\\532503548.py:7: DtypeWarning: Columns (9) have mixed types. Specify dtype option on import or set low_memory=False.\n",
      "  march2023_casual_df = pd.read_csv(file_path)\n"
     ]
    }
   ],
   "source": [
    "# pull march member data\n",
    "file_path = Path(\"Resources/march2023_member.csv\")\n",
    "march2023_member_df = pd.read_csv(file_path)\n",
    "\n",
    "# pull march casual data\n",
    "file_path = Path(\"Resources/march2023_casual.csv\")\n",
    "march2023_casual_df = pd.read_csv(file_path)\n",
    "\n",
    "# combine the two dataframes\n",
    "march2023_df = pd.concat([march2023_member_df, march2023_casual_df])\n",
    "\n",
    "# write the data to a new CSV\n",
    "march2023_df.to_csv('Resources/march2023.csv')"
   ]
  },
  {
   "cell_type": "code",
   "execution_count": 6,
   "metadata": {},
   "outputs": [],
   "source": [
    "# combine all the dataframes\n",
    "all_data = pd.concat([jan2023_df, feb2023_df, march2023_df])\n",
    "\n",
    "# write the data to a new CSV\n",
    "all_data.to_csv('Resources/all_data.csv')"
   ]
  }
 ],
 "metadata": {
  "kernelspec": {
   "display_name": "base",
   "language": "python",
   "name": "python3"
  },
  "language_info": {
   "codemirror_mode": {
    "name": "ipython",
    "version": 3
   },
   "file_extension": ".py",
   "mimetype": "text/x-python",
   "name": "python",
   "nbconvert_exporter": "python",
   "pygments_lexer": "ipython3",
   "version": "3.11.7"
  }
 },
 "nbformat": 4,
 "nbformat_minor": 2
}
